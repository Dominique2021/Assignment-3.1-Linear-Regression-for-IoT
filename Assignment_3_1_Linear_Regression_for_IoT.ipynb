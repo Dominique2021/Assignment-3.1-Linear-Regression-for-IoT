{
  "cells": [
    {
      "cell_type": "markdown",
      "metadata": {
        "id": "view-in-github",
        "colab_type": "text"
      },
      "source": [
        "<a href=\"https://colab.research.google.com/github/Dominique2021/aai-iot-linear-regression/blob/main/Assignment_3_1_Linear_Regression_for_IoT.ipynb\" target=\"_parent\"><img src=\"https://colab.research.google.com/assets/colab-badge.svg\" alt=\"Open In Colab\"/></a>"
      ]
    },
    {
      "cell_type": "markdown",
      "id": "b100e7ad",
      "metadata": {
        "id": "b100e7ad"
      },
      "source": [
        "# Linear Regression Analysis and Prediction for IoT\n",
        "\n",
        "This notebook holds the Assignment 3.1 for Module 3 in AAI 530, Data Analytics and the Internet of Things. In this assignment, you will use linear regression to make predictions for simulated \"streaming\" data. The work that you do in this assignment will build on the linear regression predictions that you saw in your text book and in this week's lab session. Be sure to answer the analysis questions thoroughly, as this is a large part of the assignment for this week.\n",
        "\n",
        "## General Assignment Instructions\n",
        "\n",
        "These instructions are included in every assignment, to remind you of the coding standards for the class. Feel free to delete this cell after reading it. \n",
        "\n",
        "One sign of mature code is conforming to a style guide. We recommend the [Google Python Style Guide](https://google.github.io/styleguide/pyguide.html). If you use a different style guide, please include a cell with a link. \n",
        "\n",
        "Your code should be relatively easy-to-read, sensibly commented, and clean. Writing code is a messy process, so please be sure to edit your final submission. Remove any cells that are not needed or parts of cells that contain unnecessary code. Remove inessential `import` statements and make sure that all such statements are moved into the designated cell. \n",
        "\n",
        "When you save your notebook as a pdf, make sure that all cell output is visible (even error messages) as this will aid your instructor in grading your work.\n",
        "\n",
        "Make use of non-code cells for written commentary. These cells should be grammatical and clearly written. In some of these cells you will have questions to answer. The questions will be marked by a \"Q:\" and will have a corresponding \"A:\" spot for you. *Make sure to answer every question marked with a `Q:` for full credit.* "
      ]
    },
    {
      "cell_type": "code",
      "execution_count": 1,
      "id": "4af6fb84",
      "metadata": {
        "id": "4af6fb84"
      },
      "outputs": [],
      "source": [
        "import pandas as pd\n",
        "import numpy as np\n",
        "import matplotlib.pyplot as plt\n",
        "from sklearn.linear_model import LinearRegression\n",
        "\n",
        "#suppress scientific notation in pandas\n",
        "pd.set_option('display.float_format', lambda x: '%.5f' % x)"
      ]
    },
    {
      "cell_type": "code",
      "execution_count": 2,
      "id": "3a417281",
      "metadata": {
        "id": "3a417281"
      },
      "outputs": [],
      "source": [
        "#use this cell to import additional libraries or define helper functions\n",
        "import datetime\n",
        "from sklearn.metrics import mean_squared_error\n",
        "from sklearn.linear_model import LinearRegression\n",
        "\n"
      ]
    },
    {
      "cell_type": "markdown",
      "id": "58c3b663",
      "metadata": {
        "id": "58c3b663"
      },
      "source": [
        "## Load and prepare your data\n",
        "\n",
        "We'll be using the cleaned household electric consumption dataset from Module 1 in this assignment. \n",
        "\n",
        "We need to turn our datetime column into a numeric value to be used as a variable in our linear regression. In the lab session, we created a new column of minutes and just incremented the value by 10 since we knew that the readings occurred every 10 minutes. In this dataset, we have readings every minute, but we might have some missing rows depending on how you cleaned your data. So instead we will convert our datetime column to something called [unix/epoch time](https://en.wikipedia.org/wiki/Unix_time), which is the number of seconds since midnight on 1/1/1970.\n",
        "\n",
        "**TODO: load your data and convert the datetime column into epoch/unix time**"
      ]
    },
    {
      "cell_type": "code",
      "execution_count": 3,
      "id": "d4c3a4ff",
      "metadata": {
        "id": "d4c3a4ff"
      },
      "outputs": [],
      "source": [
        "#Load your data into a pandas dataframe here\n",
        "df = pd.read_csv(\"household_power_clean.txt\")\n"
      ]
    },
    {
      "cell_type": "code",
      "source": [
        "df.head()"
      ],
      "metadata": {
        "colab": {
          "base_uri": "https://localhost:8080/",
          "height": 461
        },
        "id": "p9simiVXN-vQ",
        "outputId": "8e027879-80f0-473b-d11d-4be955cbf609"
      },
      "id": "p9simiVXN-vQ",
      "execution_count": 4,
      "outputs": [
        {
          "output_type": "execute_result",
          "data": {
            "text/plain": [
              "   Unnamed: 0        Date      Time  Global_active_power  \\\n",
              "0           0  2006-12-16  17:24:00              4.21600   \n",
              "1           1  2006-12-16  17:25:00              5.36000   \n",
              "2           2  2006-12-16  17:26:00              5.37400   \n",
              "3           3  2006-12-16  17:27:00              5.38800   \n",
              "4           4  2006-12-16  17:28:00              3.66600   \n",
              "\n",
              "   Global_reactive_power   Voltage  Global_intensity  Sub_metering_1  \\\n",
              "0                0.41800 234.84000          18.40000         0.00000   \n",
              "1                0.43600 233.63000          23.00000         0.00000   \n",
              "2                0.49800 233.29000          23.00000         0.00000   \n",
              "3                0.50200 233.74000          23.00000         0.00000   \n",
              "4                0.52800 235.68000          15.80000         0.00000   \n",
              "\n",
              "   Sub_metering_2  Sub_metering_3             Datetime  gap_monthly  \\\n",
              "0         1.00000        17.00000  2006-12-16 17:24:00          NaN   \n",
              "1         1.00000        16.00000  2006-12-16 17:25:00          NaN   \n",
              "2         2.00000        17.00000  2006-12-16 17:26:00          NaN   \n",
              "3         1.00000        17.00000  2006-12-16 17:27:00          NaN   \n",
              "4         1.00000        17.00000  2006-12-16 17:28:00          NaN   \n",
              "\n",
              "   grp_monthly  v_monthly  gi_monthly  \n",
              "0          NaN        NaN         NaN  \n",
              "1          NaN        NaN         NaN  \n",
              "2          NaN        NaN         NaN  \n",
              "3          NaN        NaN         NaN  \n",
              "4          NaN        NaN         NaN  "
            ],
            "text/html": [
              "\n",
              "  <div id=\"df-fbca4d02-7a9f-4946-8ead-de31135f9c2d\">\n",
              "    <div class=\"colab-df-container\">\n",
              "      <div>\n",
              "<style scoped>\n",
              "    .dataframe tbody tr th:only-of-type {\n",
              "        vertical-align: middle;\n",
              "    }\n",
              "\n",
              "    .dataframe tbody tr th {\n",
              "        vertical-align: top;\n",
              "    }\n",
              "\n",
              "    .dataframe thead th {\n",
              "        text-align: right;\n",
              "    }\n",
              "</style>\n",
              "<table border=\"1\" class=\"dataframe\">\n",
              "  <thead>\n",
              "    <tr style=\"text-align: right;\">\n",
              "      <th></th>\n",
              "      <th>Unnamed: 0</th>\n",
              "      <th>Date</th>\n",
              "      <th>Time</th>\n",
              "      <th>Global_active_power</th>\n",
              "      <th>Global_reactive_power</th>\n",
              "      <th>Voltage</th>\n",
              "      <th>Global_intensity</th>\n",
              "      <th>Sub_metering_1</th>\n",
              "      <th>Sub_metering_2</th>\n",
              "      <th>Sub_metering_3</th>\n",
              "      <th>Datetime</th>\n",
              "      <th>gap_monthly</th>\n",
              "      <th>grp_monthly</th>\n",
              "      <th>v_monthly</th>\n",
              "      <th>gi_monthly</th>\n",
              "    </tr>\n",
              "  </thead>\n",
              "  <tbody>\n",
              "    <tr>\n",
              "      <th>0</th>\n",
              "      <td>0</td>\n",
              "      <td>2006-12-16</td>\n",
              "      <td>17:24:00</td>\n",
              "      <td>4.21600</td>\n",
              "      <td>0.41800</td>\n",
              "      <td>234.84000</td>\n",
              "      <td>18.40000</td>\n",
              "      <td>0.00000</td>\n",
              "      <td>1.00000</td>\n",
              "      <td>17.00000</td>\n",
              "      <td>2006-12-16 17:24:00</td>\n",
              "      <td>NaN</td>\n",
              "      <td>NaN</td>\n",
              "      <td>NaN</td>\n",
              "      <td>NaN</td>\n",
              "    </tr>\n",
              "    <tr>\n",
              "      <th>1</th>\n",
              "      <td>1</td>\n",
              "      <td>2006-12-16</td>\n",
              "      <td>17:25:00</td>\n",
              "      <td>5.36000</td>\n",
              "      <td>0.43600</td>\n",
              "      <td>233.63000</td>\n",
              "      <td>23.00000</td>\n",
              "      <td>0.00000</td>\n",
              "      <td>1.00000</td>\n",
              "      <td>16.00000</td>\n",
              "      <td>2006-12-16 17:25:00</td>\n",
              "      <td>NaN</td>\n",
              "      <td>NaN</td>\n",
              "      <td>NaN</td>\n",
              "      <td>NaN</td>\n",
              "    </tr>\n",
              "    <tr>\n",
              "      <th>2</th>\n",
              "      <td>2</td>\n",
              "      <td>2006-12-16</td>\n",
              "      <td>17:26:00</td>\n",
              "      <td>5.37400</td>\n",
              "      <td>0.49800</td>\n",
              "      <td>233.29000</td>\n",
              "      <td>23.00000</td>\n",
              "      <td>0.00000</td>\n",
              "      <td>2.00000</td>\n",
              "      <td>17.00000</td>\n",
              "      <td>2006-12-16 17:26:00</td>\n",
              "      <td>NaN</td>\n",
              "      <td>NaN</td>\n",
              "      <td>NaN</td>\n",
              "      <td>NaN</td>\n",
              "    </tr>\n",
              "    <tr>\n",
              "      <th>3</th>\n",
              "      <td>3</td>\n",
              "      <td>2006-12-16</td>\n",
              "      <td>17:27:00</td>\n",
              "      <td>5.38800</td>\n",
              "      <td>0.50200</td>\n",
              "      <td>233.74000</td>\n",
              "      <td>23.00000</td>\n",
              "      <td>0.00000</td>\n",
              "      <td>1.00000</td>\n",
              "      <td>17.00000</td>\n",
              "      <td>2006-12-16 17:27:00</td>\n",
              "      <td>NaN</td>\n",
              "      <td>NaN</td>\n",
              "      <td>NaN</td>\n",
              "      <td>NaN</td>\n",
              "    </tr>\n",
              "    <tr>\n",
              "      <th>4</th>\n",
              "      <td>4</td>\n",
              "      <td>2006-12-16</td>\n",
              "      <td>17:28:00</td>\n",
              "      <td>3.66600</td>\n",
              "      <td>0.52800</td>\n",
              "      <td>235.68000</td>\n",
              "      <td>15.80000</td>\n",
              "      <td>0.00000</td>\n",
              "      <td>1.00000</td>\n",
              "      <td>17.00000</td>\n",
              "      <td>2006-12-16 17:28:00</td>\n",
              "      <td>NaN</td>\n",
              "      <td>NaN</td>\n",
              "      <td>NaN</td>\n",
              "      <td>NaN</td>\n",
              "    </tr>\n",
              "  </tbody>\n",
              "</table>\n",
              "</div>\n",
              "      <button class=\"colab-df-convert\" onclick=\"convertToInteractive('df-fbca4d02-7a9f-4946-8ead-de31135f9c2d')\"\n",
              "              title=\"Convert this dataframe to an interactive table.\"\n",
              "              style=\"display:none;\">\n",
              "        \n",
              "  <svg xmlns=\"http://www.w3.org/2000/svg\" height=\"24px\"viewBox=\"0 0 24 24\"\n",
              "       width=\"24px\">\n",
              "    <path d=\"M0 0h24v24H0V0z\" fill=\"none\"/>\n",
              "    <path d=\"M18.56 5.44l.94 2.06.94-2.06 2.06-.94-2.06-.94-.94-2.06-.94 2.06-2.06.94zm-11 1L8.5 8.5l.94-2.06 2.06-.94-2.06-.94L8.5 2.5l-.94 2.06-2.06.94zm10 10l.94 2.06.94-2.06 2.06-.94-2.06-.94-.94-2.06-.94 2.06-2.06.94z\"/><path d=\"M17.41 7.96l-1.37-1.37c-.4-.4-.92-.59-1.43-.59-.52 0-1.04.2-1.43.59L10.3 9.45l-7.72 7.72c-.78.78-.78 2.05 0 2.83L4 21.41c.39.39.9.59 1.41.59.51 0 1.02-.2 1.41-.59l7.78-7.78 2.81-2.81c.8-.78.8-2.07 0-2.86zM5.41 20L4 18.59l7.72-7.72 1.47 1.35L5.41 20z\"/>\n",
              "  </svg>\n",
              "      </button>\n",
              "      \n",
              "  <style>\n",
              "    .colab-df-container {\n",
              "      display:flex;\n",
              "      flex-wrap:wrap;\n",
              "      gap: 12px;\n",
              "    }\n",
              "\n",
              "    .colab-df-convert {\n",
              "      background-color: #E8F0FE;\n",
              "      border: none;\n",
              "      border-radius: 50%;\n",
              "      cursor: pointer;\n",
              "      display: none;\n",
              "      fill: #1967D2;\n",
              "      height: 32px;\n",
              "      padding: 0 0 0 0;\n",
              "      width: 32px;\n",
              "    }\n",
              "\n",
              "    .colab-df-convert:hover {\n",
              "      background-color: #E2EBFA;\n",
              "      box-shadow: 0px 1px 2px rgba(60, 64, 67, 0.3), 0px 1px 3px 1px rgba(60, 64, 67, 0.15);\n",
              "      fill: #174EA6;\n",
              "    }\n",
              "\n",
              "    [theme=dark] .colab-df-convert {\n",
              "      background-color: #3B4455;\n",
              "      fill: #D2E3FC;\n",
              "    }\n",
              "\n",
              "    [theme=dark] .colab-df-convert:hover {\n",
              "      background-color: #434B5C;\n",
              "      box-shadow: 0px 1px 3px 1px rgba(0, 0, 0, 0.15);\n",
              "      filter: drop-shadow(0px 1px 2px rgba(0, 0, 0, 0.3));\n",
              "      fill: #FFFFFF;\n",
              "    }\n",
              "  </style>\n",
              "\n",
              "      <script>\n",
              "        const buttonEl =\n",
              "          document.querySelector('#df-fbca4d02-7a9f-4946-8ead-de31135f9c2d button.colab-df-convert');\n",
              "        buttonEl.style.display =\n",
              "          google.colab.kernel.accessAllowed ? 'block' : 'none';\n",
              "\n",
              "        async function convertToInteractive(key) {\n",
              "          const element = document.querySelector('#df-fbca4d02-7a9f-4946-8ead-de31135f9c2d');\n",
              "          const dataTable =\n",
              "            await google.colab.kernel.invokeFunction('convertToInteractive',\n",
              "                                                     [key], {});\n",
              "          if (!dataTable) return;\n",
              "\n",
              "          const docLinkHtml = 'Like what you see? Visit the ' +\n",
              "            '<a target=\"_blank\" href=https://colab.research.google.com/notebooks/data_table.ipynb>data table notebook</a>'\n",
              "            + ' to learn more about interactive tables.';\n",
              "          element.innerHTML = '';\n",
              "          dataTable['output_type'] = 'display_data';\n",
              "          await google.colab.output.renderOutput(dataTable, element);\n",
              "          const docLink = document.createElement('div');\n",
              "          docLink.innerHTML = docLinkHtml;\n",
              "          element.appendChild(docLink);\n",
              "        }\n",
              "      </script>\n",
              "    </div>\n",
              "  </div>\n",
              "  "
            ]
          },
          "metadata": {},
          "execution_count": 4
        }
      ]
    },
    {
      "cell_type": "code",
      "source": [
        "df.dtypes"
      ],
      "metadata": {
        "colab": {
          "base_uri": "https://localhost:8080/"
        },
        "id": "vupVUQpDRBWJ",
        "outputId": "906a25ec-d261-449b-cad2-5665a7dd62f0"
      },
      "id": "vupVUQpDRBWJ",
      "execution_count": 5,
      "outputs": [
        {
          "output_type": "execute_result",
          "data": {
            "text/plain": [
              "Unnamed: 0                 int64\n",
              "Date                      object\n",
              "Time                      object\n",
              "Global_active_power      float64\n",
              "Global_reactive_power    float64\n",
              "Voltage                  float64\n",
              "Global_intensity         float64\n",
              "Sub_metering_1           float64\n",
              "Sub_metering_2           float64\n",
              "Sub_metering_3           float64\n",
              "Datetime                  object\n",
              "gap_monthly              float64\n",
              "grp_monthly              float64\n",
              "v_monthly                float64\n",
              "gi_monthly               float64\n",
              "dtype: object"
            ]
          },
          "metadata": {},
          "execution_count": 5
        }
      ]
    },
    {
      "cell_type": "code",
      "execution_count": 6,
      "id": "52e72e5e",
      "metadata": {
        "colab": {
          "base_uri": "https://localhost:8080/"
        },
        "id": "52e72e5e",
        "outputId": "59ae4d9c-d8db-46a0-e142-e56d9d953e1f"
      },
      "outputs": [
        {
          "output_type": "stream",
          "name": "stdout",
          "text": [
            "0       2021-03-01 12:00:00\n",
            "1       2021-03-01 12:00:00\n",
            "2       2021-03-01 12:00:00\n",
            "3       2021-03-01 12:00:00\n",
            "4       2021-03-01 12:00:00\n",
            "                ...        \n",
            "35579   2021-03-01 12:00:00\n",
            "35580   2021-03-01 12:00:00\n",
            "35581   2021-03-01 12:00:00\n",
            "35582   2021-03-01 12:00:00\n",
            "35583   2021-03-01 12:00:00\n",
            "Name: time, Length: 35584, dtype: datetime64[ns]\n"
          ]
        }
      ],
      "source": [
        "#convert datetime to epoch/unix time\n",
        "df['time'] = datetime.datetime(2021, 3, 1, 12, 0, 0)  # year, month, day, hour, minute, second\n",
        "\n",
        "# convert to Unix timestamp\n",
        "timestamp = df['time']\n",
        "\n",
        "print(timestamp)  # output: 1614580800.0\n",
        "\n"
      ]
    },
    {
      "cell_type": "markdown",
      "id": "a53c9d96",
      "metadata": {
        "id": "a53c9d96"
      },
      "source": [
        "## Predicting Global Active Power\n",
        "\n",
        "We will follow the code from the Chapter 10 in our textbook and the recorded lab session from this week to predict the Global Active Power (GAP) with linear regression.\n",
        "\n",
        "First we will create our x (time) and y (GAP) training variables, and then define our model parameters.\n",
        "\n",
        "**Q: What is ph? What is mu?**\n",
        "\n",
        "A: \n",
        "\n",
        "**TODO: Set the ph to be 5 minutes--consider the units that our time column is measured in.**"
      ]
    },
    {
      "cell_type": "code",
      "execution_count": 26,
      "id": "2376fa9a",
      "metadata": {
        "id": "2376fa9a"
      },
      "outputs": [],
      "source": [
        "ts = pd.DataFrame(df.time)\n",
        "ys = pd.DataFrame(df.Global_active_power)\n",
        "\n",
        "ph = 5*60 #5 minutes\n",
        "ph_index = round(ph/60)\n",
        "mu = 0.09\n",
        "\n",
        "#let's limit the number of samples in our model to 5000 just for speed\n",
        "n_s = 5000\n",
        "\n",
        "# Arrays to hold predicted values\n",
        "tp_pred = np.zeros(n_s-1) \n",
        "yp_pred = np.zeros(n_s-1)"
      ]
    },
    {
      "cell_type": "markdown",
      "id": "8c6b2799",
      "metadata": {
        "id": "8c6b2799"
      },
      "source": [
        "**Q: With mu = 0.9, how much weight will our first data point have on the last (5000th) prediction in our limited dataset?**\n",
        "\n",
        "A:The first data point would have very little influence on the 5000th prediction. The model would place much more weight on the more recent data points.\n",
        "\n",
        "**TODO: Following the code from Chapter 10 and the lab session, use linear regression to predict a rolling GAP for our dataset. Store these predictions in the tp_pred and yp_pred lists created above for visualization.**"
      ]
    },
    {
      "cell_type": "code",
      "source": [
        "# At every iteration of the for loop a new data sample is acquired\n",
        "for i in range(2, n_s+1):# start out with 2 leading datapoints\n",
        "    #get x and y data \"available\" for our prediction\n",
        "    ts_tmp = ts[0:i-1]\n",
        "    ys_tmp = ys[0:1]\n",
        "    \n",
        "    ns = len(ys_tmp)\n",
        "    \n",
        "    weights = np.ones(ns)*mu\n",
        "    for w in range(ns):\n",
        "      weights[w] = weights[w]**w\n",
        "    weights = np.flip(weights, 0)\n",
        "        \n",
        "    #perform linear regression on \"available\" data using the mu-adjusted weights\n",
        "    lm_tmp = LinearRegression() \n",
        "    model_tmp = lm_tmp.fit(ts_tmp, ys_tmp, sample_weight=weights)\n",
        "    \n",
        "    #store model coefficients and intercepts to compute prediction\n",
        "    m_tmp = model_tmp.coef_\n",
        "    q_tmp = model_tmp.intercept_\n",
        "\n",
        "   #use ph to make the model prediction according to the prediction time\n",
        "    tp = ts.iloc[1,0]\n",
        "    tp_unix = int(tp.timestamp())\n",
        "    yp = (m_tmp * tp.timestamp()).item() + q_tmp.item()\n",
        "\n",
        "    # add the timedelta to the Timestamp object\n",
        "    tp_pred[1,2] = tp + yp\n",
        "    yp_pred[1,2] = yp\n",
        "\n",
        "\n",
        "\n"
      ],
      "metadata": {
        "id": "YSc2QQWcfGS4",
        "colab": {
          "base_uri": "https://localhost:8080/",
          "height": 244
        },
        "outputId": "e7480823-e230-46cc-daad-47ccc7c25b8a"
      },
      "id": "YSc2QQWcfGS4",
      "execution_count": 8,
      "outputs": [
        {
          "output_type": "error",
          "ename": "TypeError",
          "evalue": "ignored",
          "traceback": [
            "\u001b[0;31m---------------------------------------------------------------------------\u001b[0m",
            "\u001b[0;31mTypeError\u001b[0m                                 Traceback (most recent call last)",
            "\u001b[0;32m<ipython-input-8-11e03d8088b8>\u001b[0m in \u001b[0;36m<module>\u001b[0;34m\u001b[0m\n\u001b[1;32m     26\u001b[0m \u001b[0;34m\u001b[0m\u001b[0m\n\u001b[1;32m     27\u001b[0m     \u001b[0;31m# add the timedelta to the Timestamp object\u001b[0m\u001b[0;34m\u001b[0m\u001b[0;34m\u001b[0m\u001b[0m\n\u001b[0;32m---> 28\u001b[0;31m     \u001b[0mtp_pred\u001b[0m\u001b[0;34m[\u001b[0m\u001b[0;36m1\u001b[0m\u001b[0;34m,\u001b[0m\u001b[0;36m2\u001b[0m\u001b[0;34m]\u001b[0m \u001b[0;34m=\u001b[0m \u001b[0mtp\u001b[0m \u001b[0;34m+\u001b[0m \u001b[0myp\u001b[0m\u001b[0;34m\u001b[0m\u001b[0;34m\u001b[0m\u001b[0m\n\u001b[0m\u001b[1;32m     29\u001b[0m     \u001b[0myp_pred\u001b[0m\u001b[0;34m[\u001b[0m\u001b[0;36m1\u001b[0m\u001b[0;34m,\u001b[0m\u001b[0;36m2\u001b[0m\u001b[0;34m]\u001b[0m \u001b[0;34m=\u001b[0m \u001b[0myp\u001b[0m\u001b[0;34m\u001b[0m\u001b[0;34m\u001b[0m\u001b[0m\n\u001b[1;32m     30\u001b[0m \u001b[0;34m\u001b[0m\u001b[0m\n",
            "\u001b[0;31mTypeError\u001b[0m: unsupported operand type(s) for +: 'Timestamp' and 'float'"
          ]
        }
      ]
    },
    {
      "cell_type": "markdown",
      "id": "f4163a49",
      "metadata": {
        "id": "f4163a49"
      },
      "source": [
        "Now let's visualize the results from our model."
      ]
    },
    {
      "cell_type": "code",
      "execution_count": 9,
      "id": "036d4a0b",
      "metadata": {
        "id": "036d4a0b",
        "colab": {
          "base_uri": "https://localhost:8080/",
          "height": 695
        },
        "outputId": "b33285b2-abec-4a15-9004-e5849cca8789"
      },
      "outputs": [
        {
          "output_type": "execute_result",
          "data": {
            "text/plain": [
              "<matplotlib.legend.Legend at 0x7f6bb1a234c0>"
            ]
          },
          "metadata": {},
          "execution_count": 9
        },
        {
          "output_type": "display_data",
          "data": {
            "text/plain": [
              "<Figure size 720x720 with 1 Axes>"
            ],
            "image/png": "[encoded data removed]"
          },
          "metadata": {
            "needs_background": "light"
          }
        }
      ],
      "source": [
        "fig, ax = plt.subplots(figsize=(10,10))\n",
        "fig.suptitle('Global Active Power Prediction', fontsize=22, fontweight='bold')\n",
        "ax.set_title('mu = %g, ph=%g ' %(mu, ph))\n",
        "ax.plot(tp_pred[:n_s-1], yp_pred, label='Predicted Value') \n",
        "ax.plot(ts.iloc[0:n_s,0], ys.iloc[0:n_s,0], label='GAP data') \n",
        "ax.set_xlabel('time (epoch)')\n",
        "ax.set_ylabel('kilowatts')\n",
        "ax.legend()"
      ]
    },
    {
      "cell_type": "markdown",
      "id": "317768ae",
      "metadata": {
        "id": "317768ae"
      },
      "source": [
        "It's difficult to tell how the model is performing from this plot.\n",
        "\n",
        "**TODO: Modify the code above to visualize the first and last 200 datapoints/predictions (can be in separate charts) and compute the RMSE for our predictions.**"
      ]
    },
    {
      "cell_type": "code",
      "execution_count": 10,
      "id": "9e3fcf67",
      "metadata": {
        "id": "9e3fcf67",
        "colab": {
          "base_uri": "https://localhost:8080/",
          "height": 695
        },
        "outputId": "f6c7a0af-10cc-4c6e-90f8-0d4cbdfdc45c"
      },
      "outputs": [
        {
          "output_type": "execute_result",
          "data": {
            "text/plain": [
              "<matplotlib.legend.Legend at 0x7f6bb1b835b0>"
            ]
          },
          "metadata": {},
          "execution_count": 10
        },
        {
          "output_type": "display_data",
          "data": {
            "text/plain": [
              "<Figure size 720x720 with 1 Axes>"
            ],
            "image/png": "[encoded data removed]"
          },
          "metadata": {
            "needs_background": "light"
          }
        }
      ],
      "source": [
        "#Plot first 200 data points/predictions\n",
        "fig, ax = plt.subplots(figsize=(10,10))\n",
        "fig.suptitle('Global Active Power Prediction', fontsize=22, fontweight='bold')\n",
        "ax.set_title('mu = %g, ph=%g ' %(mu, ph))\n",
        "ax.plot(tp_pred[:200], yp_pred[:200], label='Predicted Value') \n",
        "ax.plot(ts.iloc[0:200,0], ys.iloc[0:200,0], label='GAP data') \n",
        "ax.set_xlabel('time (epoch)')\n",
        "ax.set_ylabel('kilowatts')\n",
        "ax.legend()\n"
      ]
    },
    {
      "cell_type": "code",
      "execution_count": 11,
      "id": "b00f4a4b",
      "metadata": {
        "id": "b00f4a4b",
        "colab": {
          "base_uri": "https://localhost:8080/",
          "height": 695
        },
        "outputId": "2f08ed23-3c3e-4afd-c7eb-4fbc156d5f09"
      },
      "outputs": [
        {
          "output_type": "execute_result",
          "data": {
            "text/plain": [
              "<matplotlib.legend.Legend at 0x7f6bb191a0d0>"
            ]
          },
          "metadata": {},
          "execution_count": 11
        },
        {
          "output_type": "display_data",
          "data": {
            "text/plain": [
              "<Figure size 720x720 with 1 Axes>"
            ],
            "image/png": "[encoded data removed]"
          },
          "metadata": {
            "needs_background": "light"
          }
        }
      ],
      "source": [
        "#Plot last 200 data points/predictions\n",
        "fig, ax = plt.subplots(figsize=(10,10))\n",
        "fig.suptitle('Global Active Power Prediction', fontsize=22, fontweight='bold')\n",
        "ax.set_title('mu = %g, ph=%g ' %(mu, ph))\n",
        "ax.plot(tp_pred[:-200], yp_pred[:-200], label='Predicted Value') \n",
        "ax.plot(ts.iloc[0:-200,0], ys.iloc[0:-200,0], label='GAP data') \n",
        "ax.set_xlabel('time (epoch)')\n",
        "ax.set_ylabel('kilowatts')\n",
        "ax.legend()\n"
      ]
    },
    {
      "cell_type": "code",
      "execution_count": 12,
      "id": "0906ea2f",
      "metadata": {
        "id": "0906ea2f",
        "colab": {
          "base_uri": "https://localhost:8080/"
        },
        "outputId": "0c91604c-2d8f-4796-f998-a95385c1bf2c"
      },
      "outputs": [
        {
          "output_type": "stream",
          "name": "stdout",
          "text": [
            "RMSE:  2.1549368256504664\n"
          ]
        }
      ],
      "source": [
        "#Calculate RMSE of \n",
        "from sklearn.metrics import mean_squared_error\n",
        "\n",
        "# calculate the RMSE of the predictions\n",
        "mse = mean_squared_error(ys.iloc[1:n_s], yp_pred)\n",
        "rmse = np.sqrt(mse)\n",
        "\n",
        "print(\"RMSE: \", rmse)\n"
      ]
    },
    {
      "cell_type": "markdown",
      "id": "8f20b48f",
      "metadata": {
        "id": "8f20b48f"
      },
      "source": [
        "**Q: How did our model perform? What do you observe on the charts? Is there a difference between the early and the late predictions? What does the RMSE tell you?**\n",
        "\n",
        "A: The model worked but has errors. I would have expected the first iteration to not be as accurate as it should have been. As the model is refined it should become more accurate. \n",
        "\n",
        "**TODO: Re-run the prediction code with mu = 1 and mu = 0.01. Use the cells below to produce charts for the first and last 200 points and to compute the RMSE for each of these sets of predictions.**"
      ]
    },
    {
      "cell_type": "code",
      "execution_count": 13,
      "id": "2b2919cb",
      "metadata": {
        "id": "2b2919cb",
        "colab": {
          "base_uri": "https://localhost:8080/",
          "height": 695
        },
        "outputId": "4bcae949-ba61-446e-f5b5-7e16e7b37aab"
      },
      "outputs": [
        {
          "output_type": "execute_result",
          "data": {
            "text/plain": [
              "<matplotlib.legend.Legend at 0x7f6bb1807790>"
            ]
          },
          "metadata": {},
          "execution_count": 13
        },
        {
          "output_type": "display_data",
          "data": {
            "text/plain": [
              "<Figure size 720x720 with 1 Axes>"
            ],
            "image/png": "[encoded data removed]"
          },
          "metadata": {
            "needs_background": "light"
          }
        }
      ],
      "source": [
        "#Plot first 200 data points/predictions for mu = 1\n",
        "fig, ax = plt.subplots(figsize=(10,10))\n",
        "fig.suptitle('Global Active Power Prediction', fontsize=22, fontweight='bold')\n",
        "ax.set_title('mu = %g, ph=%g ' %(mu, ph))\n",
        "ax.plot(tp_pred[:200], yp_pred[:200], label='Predicted Value') \n",
        "ax.plot(ts.iloc[0:200,0], ys.iloc[0:200,0], label='GAP data') \n",
        "ax.set_xlabel('time (epoch)')\n",
        "ax.set_ylabel('kilowatts')\n",
        "ax.legend()"
      ]
    },
    {
      "cell_type": "code",
      "execution_count": 14,
      "id": "7dd7eb8e",
      "metadata": {
        "id": "7dd7eb8e",
        "colab": {
          "base_uri": "https://localhost:8080/",
          "height": 695
        },
        "outputId": "76b9402a-24f3-4171-8872-34a97d58c208"
      },
      "outputs": [
        {
          "output_type": "execute_result",
          "data": {
            "text/plain": [
              "<matplotlib.legend.Legend at 0x7f6bb177c5e0>"
            ]
          },
          "metadata": {},
          "execution_count": 14
        },
        {
          "output_type": "display_data",
          "data": {
            "text/plain": [
              "<Figure size 720x720 with 1 Axes>"
            ],
            "image/png": "[encoded data removed]"
          },
          "metadata": {
            "needs_background": "light"
          }
        }
      ],
      "source": [
        "#Plot last 200 data points/predictions for mu = 1\n",
        "fig, ax = plt.subplots(figsize=(10,10))\n",
        "fig.suptitle('Global Active Power Prediction', fontsize=22, fontweight='bold')\n",
        "ax.set_title('mu = %g, ph=%g ' %(mu, ph))\n",
        "ax.plot(tp_pred[:-200], yp_pred[:-200], label='Predicted Value') \n",
        "ax.plot(ts.iloc[0:-200,0], ys.iloc[0:-200,0], label='GAP data') \n",
        "ax.set_xlabel('time (epoch)')\n",
        "ax.set_ylabel('kilowatts')\n",
        "ax.legend()"
      ]
    },
    {
      "cell_type": "code",
      "execution_count": 15,
      "id": "81ce0e0e",
      "metadata": {
        "id": "81ce0e0e",
        "colab": {
          "base_uri": "https://localhost:8080/"
        },
        "outputId": "adb628d1-f723-4f16-de06-185c703a99e2"
      },
      "outputs": [
        {
          "output_type": "stream",
          "name": "stdout",
          "text": [
            "RMSE:  2.1549368256504664\n"
          ]
        }
      ],
      "source": [
        "#Calculate RMSE of predictions for mu = 1\n",
        "mse = mean_squared_error(ys.iloc[1:n_s], yp_pred)\n",
        "rmse = np.sqrt(mse)\n",
        "\n",
        "print(\"RMSE: \", rmse)\n"
      ]
    },
    {
      "cell_type": "code",
      "execution_count": 16,
      "id": "73f6b21f",
      "metadata": {
        "id": "73f6b21f",
        "colab": {
          "base_uri": "https://localhost:8080/",
          "height": 695
        },
        "outputId": "c4cdba80-d2ec-45f1-ffa9-22da3db4dbc4"
      },
      "outputs": [
        {
          "output_type": "execute_result",
          "data": {
            "text/plain": [
              "<matplotlib.legend.Legend at 0x7f6bb1768be0>"
            ]
          },
          "metadata": {},
          "execution_count": 16
        },
        {
          "output_type": "display_data",
          "data": {
            "text/plain": [
              "<Figure size 720x720 with 1 Axes>"
            ],
            "image/png": "[encoded data removed]"
          },
          "metadata": {
            "needs_background": "light"
          }
        }
      ],
      "source": [
        "#Plot first 200 data points/predictions for mu = 0.01\n",
        "fig, ax = plt.subplots(figsize=(10,10))\n",
        "fig.suptitle('Global Active Power Prediction', fontsize=22, fontweight='bold')\n",
        "ax.set_title('mu = %g, ph=%g ' %(mu, ph))\n",
        "ax.plot(tp_pred[:200], yp_pred[:200], label='Predicted Value') \n",
        "ax.plot(ts.iloc[0:200,0], ys.iloc[0:200,0], label='GAP data') \n",
        "ax.set_xlabel('time (epoch)')\n",
        "ax.set_ylabel('kilowatts')\n",
        "ax.legend()"
      ]
    },
    {
      "cell_type": "code",
      "execution_count": 17,
      "id": "387041a1",
      "metadata": {
        "id": "387041a1",
        "colab": {
          "base_uri": "https://localhost:8080/",
          "height": 695
        },
        "outputId": "71e7c468-8223-4924-8467-efba9de4b24b"
      },
      "outputs": [
        {
          "output_type": "execute_result",
          "data": {
            "text/plain": [
              "<matplotlib.legend.Legend at 0x7f6bb166e520>"
            ]
          },
          "metadata": {},
          "execution_count": 17
        },
        {
          "output_type": "display_data",
          "data": {
            "text/plain": [
              "<Figure size 720x720 with 1 Axes>"
            ],
            "image/png": "[encoded data removed]"
          },
          "metadata": {
            "needs_background": "light"
          }
        }
      ],
      "source": [
        "#Plot last 200 data points/predictions for mu = 0.01\n",
        "#Plot first 200 data points/predictions\n",
        "fig, ax = plt.subplots(figsize=(10,10))\n",
        "fig.suptitle('Global Active Power Prediction', fontsize=22, fontweight='bold')\n",
        "ax.set_title('mu = %g, ph=%g ' %(mu, ph))\n",
        "ax.plot(tp_pred[:-200], yp_pred[:-200], label='Predicted Value') \n",
        "ax.plot(ts.iloc[0:-200,0], ys.iloc[0:-200,0], label='GAP data') \n",
        "ax.set_xlabel('time (epoch)')\n",
        "ax.set_ylabel('kilowatts')\n",
        "ax.legend()"
      ]
    },
    {
      "cell_type": "code",
      "execution_count": 18,
      "id": "cb996a81",
      "metadata": {
        "id": "cb996a81",
        "colab": {
          "base_uri": "https://localhost:8080/"
        },
        "outputId": "3373e1db-2afc-4a9f-8d4d-4a4b2d1f219f"
      },
      "outputs": [
        {
          "output_type": "stream",
          "name": "stdout",
          "text": [
            "RMSE:  2.1549368256504664\n"
          ]
        }
      ],
      "source": [
        "#Calculate RMSE of predictions for mu = 0.01\n",
        "mse = mean_squared_error(ys.iloc[1:n_s], yp_pred)\n",
        "rmse = np.sqrt(mse)\n",
        "\n",
        "print(\"RMSE: \", rmse)\n"
      ]
    },
    {
      "cell_type": "markdown",
      "id": "71522c20",
      "metadata": {
        "id": "71522c20"
      },
      "source": [
        "**Q: How did our mu = 1 model perform? What do you observe on the charts? Is there a difference between the early and the late predictions? What does the RMSE tell you?**\n",
        "\n",
        "A: When the model is changed to mu = 1 there didnt seem to be much of a change from when mu = 9. \n",
        "\n",
        "**Q: How did our mu = 0.01 model perform? What do you observe on the charts? Is there a difference between the early and the late predictions? What does the RMSE tell you?**\n",
        "\n",
        "A: Due to errors in the model, I was unable to test visualize the data, but I believe that future predictions will be more accurate because we will have sufficient data to refine the original model.\n",
        "\n",
        "**Q: Which of these three models is the best? How do you know? Why does this make sense based on the mu parameter used?**\n",
        "\n",
        "A: This is difficult to determine with the model errors but I would expect the mu = 0.09 model to preform at least slightly better than the mu = 0.01 model.\n",
        "\n",
        "**Q: What could we do to improve our model and/or make it more realistic and useful?**\n",
        "\n",
        "A: We could conduct additional data analysis to determine which variables are correlated and then use this knowledge to improve the model. For instance, we can increase the time from 5 minutes to 30 days.\n",
        "\n",
        "**TODO: Add voltage data as a second variable to our model and re-run the prediction code. Then visualize the first and last 200 points and compute the RMSE**"
      ]
    },
    {
      "cell_type": "code",
      "source": [
        "#add voltage to the x-variables in our dataset\n",
        "ts = pd.DataFrame({'time': df['time'], 'Voltage': df['Voltage']})\n",
        "ys = pd.DataFrame(df.Global_active_power)\n",
        "\n",
        "ph = 5 #5 minutes\n",
        "mu = 0.9\n",
        "\n",
        "#let's limit the number of samples in our model to 5000 just for speed\n",
        "n_s = 5000\n",
        "\n",
        "#arrays to hold predicted values\n",
        "tp_pred = np.zeros(n_s-1) \n",
        "yp_pred = np.zeros(n_s-1)"
      ],
      "metadata": {
        "id": "WIZDDfQLiiRb"
      },
      "id": "WIZDDfQLiiRb",
      "execution_count": 19,
      "outputs": []
    },
    {
      "cell_type": "code",
      "execution_count": 20,
      "id": "90c3f8d8",
      "metadata": {
        "id": "90c3f8d8",
        "colab": {
          "base_uri": "https://localhost:8080/",
          "height": 341
        },
        "outputId": "5a0587f6-45a4-4466-86ad-6a03bb1fafa5"
      },
      "outputs": [
        {
          "output_type": "error",
          "ename": "TypeError",
          "evalue": "ignored",
          "traceback": [
            "\u001b[0;31m---------------------------------------------------------------------------\u001b[0m",
            "\u001b[0;31mTypeError\u001b[0m                                 Traceback (most recent call last)",
            "\u001b[0;32m<ipython-input-20-3e447b8a9174>\u001b[0m in \u001b[0;36m<module>\u001b[0;34m\u001b[0m\n\u001b[1;32m     12\u001b[0m     \u001b[0;31m# perform linear regression on \"available\" data using the mu-adjusted weights\u001b[0m\u001b[0;34m\u001b[0m\u001b[0;34m\u001b[0m\u001b[0m\n\u001b[1;32m     13\u001b[0m     \u001b[0mlm_tmp\u001b[0m \u001b[0;34m=\u001b[0m \u001b[0mLinearRegression\u001b[0m\u001b[0;34m(\u001b[0m\u001b[0;34m)\u001b[0m\u001b[0;34m\u001b[0m\u001b[0;34m\u001b[0m\u001b[0m\n\u001b[0;32m---> 14\u001b[0;31m     \u001b[0mmodel_tmp\u001b[0m \u001b[0;34m=\u001b[0m \u001b[0mlm_tmp\u001b[0m\u001b[0;34m.\u001b[0m\u001b[0mfit\u001b[0m\u001b[0;34m(\u001b[0m\u001b[0mts_tmp\u001b[0m\u001b[0;34m,\u001b[0m \u001b[0mys_tmp\u001b[0m\u001b[0;34m,\u001b[0m \u001b[0msample_weight\u001b[0m\u001b[0;34m=\u001b[0m\u001b[0mweights\u001b[0m\u001b[0;34m)\u001b[0m\u001b[0;34m\u001b[0m\u001b[0;34m\u001b[0m\u001b[0m\n\u001b[0m\u001b[1;32m     15\u001b[0m \u001b[0;34m\u001b[0m\u001b[0m\n\u001b[1;32m     16\u001b[0m     \u001b[0;31m# store model coefficients and intercepts to compute prediction\u001b[0m\u001b[0;34m\u001b[0m\u001b[0;34m\u001b[0m\u001b[0m\n",
            "\u001b[0;32m/usr/local/lib/python3.9/dist-packages/sklearn/linear_model/_base.py\u001b[0m in \u001b[0;36mfit\u001b[0;34m(self, X, y, sample_weight)\u001b[0m\n\u001b[1;32m    646\u001b[0m         \u001b[0maccept_sparse\u001b[0m \u001b[0;34m=\u001b[0m \u001b[0;32mFalse\u001b[0m \u001b[0;32mif\u001b[0m \u001b[0mself\u001b[0m\u001b[0;34m.\u001b[0m\u001b[0mpositive\u001b[0m \u001b[0;32melse\u001b[0m \u001b[0;34m[\u001b[0m\u001b[0;34m\"csr\"\u001b[0m\u001b[0;34m,\u001b[0m \u001b[0;34m\"csc\"\u001b[0m\u001b[0;34m,\u001b[0m \u001b[0;34m\"coo\"\u001b[0m\u001b[0;34m]\u001b[0m\u001b[0;34m\u001b[0m\u001b[0;34m\u001b[0m\u001b[0m\n\u001b[1;32m    647\u001b[0m \u001b[0;34m\u001b[0m\u001b[0m\n\u001b[0;32m--> 648\u001b[0;31m         X, y = self._validate_data(\n\u001b[0m\u001b[1;32m    649\u001b[0m             \u001b[0mX\u001b[0m\u001b[0;34m,\u001b[0m \u001b[0my\u001b[0m\u001b[0;34m,\u001b[0m \u001b[0maccept_sparse\u001b[0m\u001b[0;34m=\u001b[0m\u001b[0maccept_sparse\u001b[0m\u001b[0;34m,\u001b[0m \u001b[0my_numeric\u001b[0m\u001b[0;34m=\u001b[0m\u001b[0;32mTrue\u001b[0m\u001b[0;34m,\u001b[0m \u001b[0mmulti_output\u001b[0m\u001b[0;34m=\u001b[0m\u001b[0;32mTrue\u001b[0m\u001b[0;34m\u001b[0m\u001b[0;34m\u001b[0m\u001b[0m\n\u001b[1;32m    650\u001b[0m         )\n",
            "\u001b[0;32m/usr/local/lib/python3.9/dist-packages/sklearn/base.py\u001b[0m in \u001b[0;36m_validate_data\u001b[0;34m(self, X, y, reset, validate_separately, **check_params)\u001b[0m\n\u001b[1;32m    582\u001b[0m                 \u001b[0my\u001b[0m \u001b[0;34m=\u001b[0m \u001b[0mcheck_array\u001b[0m\u001b[0;34m(\u001b[0m\u001b[0my\u001b[0m\u001b[0;34m,\u001b[0m \u001b[0minput_name\u001b[0m\u001b[0;34m=\u001b[0m\u001b[0;34m\"y\"\u001b[0m\u001b[0;34m,\u001b[0m \u001b[0;34m**\u001b[0m\u001b[0mcheck_y_params\u001b[0m\u001b[0;34m)\u001b[0m\u001b[0;34m\u001b[0m\u001b[0;34m\u001b[0m\u001b[0m\n\u001b[1;32m    583\u001b[0m             \u001b[0;32melse\u001b[0m\u001b[0;34m:\u001b[0m\u001b[0;34m\u001b[0m\u001b[0;34m\u001b[0m\u001b[0m\n\u001b[0;32m--> 584\u001b[0;31m                 \u001b[0mX\u001b[0m\u001b[0;34m,\u001b[0m \u001b[0my\u001b[0m \u001b[0;34m=\u001b[0m \u001b[0mcheck_X_y\u001b[0m\u001b[0;34m(\u001b[0m\u001b[0mX\u001b[0m\u001b[0;34m,\u001b[0m \u001b[0my\u001b[0m\u001b[0;34m,\u001b[0m \u001b[0;34m**\u001b[0m\u001b[0mcheck_params\u001b[0m\u001b[0;34m)\u001b[0m\u001b[0;34m\u001b[0m\u001b[0;34m\u001b[0m\u001b[0m\n\u001b[0m\u001b[1;32m    585\u001b[0m             \u001b[0mout\u001b[0m \u001b[0;34m=\u001b[0m \u001b[0mX\u001b[0m\u001b[0;34m,\u001b[0m \u001b[0my\u001b[0m\u001b[0;34m\u001b[0m\u001b[0;34m\u001b[0m\u001b[0m\n\u001b[1;32m    586\u001b[0m \u001b[0;34m\u001b[0m\u001b[0m\n",
            "\u001b[0;32m/usr/local/lib/python3.9/dist-packages/sklearn/utils/validation.py\u001b[0m in \u001b[0;36mcheck_X_y\u001b[0;34m(X, y, accept_sparse, accept_large_sparse, dtype, order, copy, force_all_finite, ensure_2d, allow_nd, multi_output, ensure_min_samples, ensure_min_features, y_numeric, estimator)\u001b[0m\n\u001b[1;32m   1104\u001b[0m         )\n\u001b[1;32m   1105\u001b[0m \u001b[0;34m\u001b[0m\u001b[0m\n\u001b[0;32m-> 1106\u001b[0;31m     X = check_array(\n\u001b[0m\u001b[1;32m   1107\u001b[0m         \u001b[0mX\u001b[0m\u001b[0;34m,\u001b[0m\u001b[0;34m\u001b[0m\u001b[0;34m\u001b[0m\u001b[0m\n\u001b[1;32m   1108\u001b[0m         \u001b[0maccept_sparse\u001b[0m\u001b[0;34m=\u001b[0m\u001b[0maccept_sparse\u001b[0m\u001b[0;34m,\u001b[0m\u001b[0;34m\u001b[0m\u001b[0;34m\u001b[0m\u001b[0m\n",
            "\u001b[0;32m/usr/local/lib/python3.9/dist-packages/sklearn/utils/validation.py\u001b[0m in \u001b[0;36mcheck_array\u001b[0;34m(array, accept_sparse, accept_large_sparse, dtype, order, copy, force_all_finite, ensure_2d, allow_nd, ensure_min_samples, ensure_min_features, estimator, input_name)\u001b[0m\n\u001b[1;32m    776\u001b[0m         )\n\u001b[1;32m    777\u001b[0m         \u001b[0;32mif\u001b[0m \u001b[0mall\u001b[0m\u001b[0;34m(\u001b[0m\u001b[0misinstance\u001b[0m\u001b[0;34m(\u001b[0m\u001b[0mdtype_iter\u001b[0m\u001b[0;34m,\u001b[0m \u001b[0mnp\u001b[0m\u001b[0;34m.\u001b[0m\u001b[0mdtype\u001b[0m\u001b[0;34m)\u001b[0m \u001b[0;32mfor\u001b[0m \u001b[0mdtype_iter\u001b[0m \u001b[0;32min\u001b[0m \u001b[0mdtypes_orig\u001b[0m\u001b[0;34m)\u001b[0m\u001b[0;34m:\u001b[0m\u001b[0;34m\u001b[0m\u001b[0;34m\u001b[0m\u001b[0m\n\u001b[0;32m--> 778\u001b[0;31m             \u001b[0mdtype_orig\u001b[0m \u001b[0;34m=\u001b[0m \u001b[0mnp\u001b[0m\u001b[0;34m.\u001b[0m\u001b[0mresult_type\u001b[0m\u001b[0;34m(\u001b[0m\u001b[0;34m*\u001b[0m\u001b[0mdtypes_orig\u001b[0m\u001b[0;34m)\u001b[0m\u001b[0;34m\u001b[0m\u001b[0;34m\u001b[0m\u001b[0m\n\u001b[0m\u001b[1;32m    779\u001b[0m \u001b[0;34m\u001b[0m\u001b[0m\n\u001b[1;32m    780\u001b[0m     \u001b[0;32melif\u001b[0m \u001b[0mhasattr\u001b[0m\u001b[0;34m(\u001b[0m\u001b[0marray\u001b[0m\u001b[0;34m,\u001b[0m \u001b[0;34m\"iloc\"\u001b[0m\u001b[0;34m)\u001b[0m \u001b[0;32mand\u001b[0m \u001b[0mhasattr\u001b[0m\u001b[0;34m(\u001b[0m\u001b[0marray\u001b[0m\u001b[0;34m,\u001b[0m \u001b[0;34m\"dtype\"\u001b[0m\u001b[0;34m)\u001b[0m\u001b[0;34m:\u001b[0m\u001b[0;34m\u001b[0m\u001b[0;34m\u001b[0m\u001b[0m\n",
            "\u001b[0;32m/usr/local/lib/python3.9/dist-packages/numpy/core/overrides.py\u001b[0m in \u001b[0;36mresult_type\u001b[0;34m(*args, **kwargs)\u001b[0m\n",
            "\u001b[0;31mTypeError\u001b[0m: The DType <class 'numpy.dtype[datetime64]'> could not be promoted by <class 'numpy.dtype[float64]'>. This means that no common DType exists for the given inputs. For example they cannot be stored in a single array unless the dtype is `object`. The full list of DTypes is: (<class 'numpy.dtype[datetime64]'>, <class 'numpy.dtype[float64]'>)"
          ]
        }
      ],
      "source": [
        "#run the prediction code on your expanded dataset\n",
        "#make sure to adjust your yp prediction to include the coefficients from time AND voltage\n",
        "for i in range(3, n_s+1):\n",
        "    # get x and y data \"available\" for our prediction\n",
        "    ts_tmp = ts.iloc[i-3:i-1, :]\n",
        "    ys_tmp = ys.iloc[i-3:i, :]\n",
        "    ns = len(ys_tmp)\n",
        "    \n",
        "    weights = np.array([mu**(i-1-k) for k in range(ns)])\n",
        "    weights = np.flip(weights, 0)\n",
        "        \n",
        "    # perform linear regression on \"available\" data using the mu-adjusted weights\n",
        "    lm_tmp = LinearRegression() \n",
        "    model_tmp = lm_tmp.fit(ts_tmp, ys_tmp, sample_weight=weights)\n",
        "    \n",
        "    # store model coefficients and intercepts to compute prediction\n",
        "    m_tmp = model_tmp.coef_\n",
        "    q_tmp = model_tmp.intercept_\n",
        "\n",
        "    # use ph to make the model prediction according to the prediction time\n",
        "    tp = ts.iloc[i-1, 0]\n",
        "    tp_unix = tp.timestamp()\n",
        "    yp = np.dot(m_tmp, np.array([tp_unix, voltage_value])) + q_tmp\n",
        "      \n",
        "    tp_pred[1, i] = tp + ph\n",
        "    yp_pred[1, i] = yp"
      ]
    },
    {
      "cell_type": "code",
      "execution_count": 21,
      "id": "9e974d69",
      "metadata": {
        "id": "9e974d69",
        "colab": {
          "base_uri": "https://localhost:8080/",
          "height": 695
        },
        "outputId": "f10dfd39-1062-4413-8946-d1998d5e4ad1"
      },
      "outputs": [
        {
          "output_type": "execute_result",
          "data": {
            "text/plain": [
              "<matplotlib.legend.Legend at 0x7f6bb1667eb0>"
            ]
          },
          "metadata": {},
          "execution_count": 21
        },
        {
          "output_type": "display_data",
          "data": {
            "text/plain": [
              "<Figure size 720x720 with 1 Axes>"
            ],
            "image/png": "[encoded data removed]"
          },
          "metadata": {
            "needs_background": "light"
          }
        }
      ],
      "source": [
        "#Plot first 200 data points/predictions for the expanded dataset\n",
        "fig, ax = plt.subplots(figsize=(10,10))\n",
        "fig.suptitle('Voltage', fontsize=22, fontweight='bold')\n",
        "ax.set_title('mu = %g, ph=%g ' %(mu, ph))\n",
        "ax.plot(tp_pred[:200], yp_pred[:200], label='Predicted Value') \n",
        "ax.plot(ts.iloc[0:200,0], ys.iloc[0:200,0], label='GAP data') \n",
        "ax.set_xlabel('time (epoch)')\n",
        "ax.set_ylabel('kilowatts')\n",
        "ax.legend()"
      ]
    },
    {
      "cell_type": "code",
      "execution_count": 22,
      "id": "72ff7948",
      "metadata": {
        "id": "72ff7948",
        "colab": {
          "base_uri": "https://localhost:8080/",
          "height": 695
        },
        "outputId": "78ec754c-7896-4480-98a1-f245ad7da7d0"
      },
      "outputs": [
        {
          "output_type": "execute_result",
          "data": {
            "text/plain": [
              "<matplotlib.legend.Legend at 0x7f6bb0a3b520>"
            ]
          },
          "metadata": {},
          "execution_count": 22
        },
        {
          "output_type": "display_data",
          "data": {
            "text/plain": [
              "<Figure size 720x720 with 1 Axes>"
            ],
            "image/png": "[encoded data removed]"
          },
          "metadata": {
            "needs_background": "light"
          }
        }
      ],
      "source": [
        "#Plot last 200 data points/predictions for the expanded data\n",
        "#Plot first 200 data points/predictions for the expanded dataset\n",
        "fig, ax = plt.subplots(figsize=(10,10))\n",
        "fig.suptitle('Voltage', fontsize=22, fontweight='bold')\n",
        "ax.set_title('mu = %g, ph=%g ' %(mu, ph))\n",
        "ax.plot(tp_pred[:-200], yp_pred[:-200], label='Predicted Value') \n",
        "ax.plot(ts.iloc[0:200,0], ys.iloc[0:200,0], label='GAP data') \n",
        "ax.set_xlabel('time (epoch)')\n",
        "ax.set_ylabel('kilowatts')\n",
        "ax.legend()"
      ]
    },
    {
      "cell_type": "code",
      "execution_count": 23,
      "id": "0dd3c706",
      "metadata": {
        "id": "0dd3c706",
        "colab": {
          "base_uri": "https://localhost:8080/"
        },
        "outputId": "9fc61706-20b4-4227-f83a-4aeae9237ce7"
      },
      "outputs": [
        {
          "output_type": "stream",
          "name": "stdout",
          "text": [
            "RMSE:  2.1549368256504664\n"
          ]
        }
      ],
      "source": [
        "#Calculate RMSE of predictions for the expanded data\n",
        "mse = mean_squared_error(ys.iloc[1:n_s], yp_pred)\n",
        "rmse = np.sqrt(mse)\n",
        "\n",
        "print(\"RMSE: \", rmse)\n"
      ]
    },
    {
      "cell_type": "markdown",
      "id": "c8b59f7a",
      "metadata": {
        "id": "c8b59f7a"
      },
      "source": [
        "**Q: How did the model performed when you added the voltage data? How does it compare to the models without it?**\n",
        "\n",
        "A: The model visualazation is still producing errors.\n",
        "\n",
        "There are lots of other ways that we could try to improve our model while still using linear regression.\n",
        "\n",
        "**TODO: Choose one alternative model and re-run the prediction code. Some ideas include:**\n",
        "\n",
        "- Use a moving average as the response variable\n",
        "- Make your prediction based on the time of day instead of as a continuous time series\n",
        "- Use a moving window to limit your predictions instead of using a mu factor\n",
        "\n",
        "**Q: Describe your alternative model and why it might improve your model**\n",
        "\n",
        "A: I might utilize an AutoRegressive Integrated Moving Average (ARIMA) model if I were to use a different model. These are among the most commonly employed time series forecasting methods: In an autoregressive model, forecasts are linear combinations of the variable's past values."
      ]
    },
    {
      "cell_type": "code",
      "execution_count": 27,
      "id": "ace784a8",
      "metadata": {
        "id": "ace784a8"
      },
      "outputs": [],
      "source": [
        "#create your alternative training data here\n",
        "\n",
        "\n",
        "ph = 60 * 5 #5 minutes\n",
        "mu = 0.01\n",
        "\n",
        "#let's limit the number of samples in our model to 5000 just for speed\n",
        "n_s = 5000\n",
        "\n",
        "#arrays to hold predicted values\n",
        "#you may need to adjust these\n",
        "tp_pred = np.zeros(n_s-1) \n",
        "yp_pred = np.zeros(n_s-1)"
      ]
    },
    {
      "cell_type": "code",
      "execution_count": 28,
      "id": "15a2c2e4",
      "metadata": {
        "id": "15a2c2e4",
        "colab": {
          "base_uri": "https://localhost:8080/",
          "height": 396
        },
        "outputId": "65db0852-a2d6-493c-8bb9-7a70c1095016"
      },
      "outputs": [
        {
          "output_type": "error",
          "ename": "ValueError",
          "evalue": "ignored",
          "traceback": [
            "\u001b[0;31m---------------------------------------------------------------------------\u001b[0m",
            "\u001b[0;31mValueError\u001b[0m                                Traceback (most recent call last)",
            "\u001b[0;32m<ipython-input-28-26189159d25f>\u001b[0m in \u001b[0;36m<module>\u001b[0;34m\u001b[0m\n\u001b[1;32m     11\u001b[0m     \u001b[0;31m# perform linear regression on \"available\" data using the mu-adjusted weights\u001b[0m\u001b[0;34m\u001b[0m\u001b[0;34m\u001b[0m\u001b[0m\n\u001b[1;32m     12\u001b[0m     \u001b[0mlm_tmp\u001b[0m \u001b[0;34m=\u001b[0m \u001b[0mLinearRegression\u001b[0m\u001b[0;34m(\u001b[0m\u001b[0;34m)\u001b[0m\u001b[0;34m\u001b[0m\u001b[0;34m\u001b[0m\u001b[0m\n\u001b[0;32m---> 13\u001b[0;31m     \u001b[0mmodel_tmp\u001b[0m \u001b[0;34m=\u001b[0m \u001b[0mlm_tmp\u001b[0m\u001b[0;34m.\u001b[0m\u001b[0mfit\u001b[0m\u001b[0;34m(\u001b[0m\u001b[0mts_tmp\u001b[0m\u001b[0;34m,\u001b[0m \u001b[0mys_tmp\u001b[0m\u001b[0;34m,\u001b[0m \u001b[0msample_weight\u001b[0m\u001b[0;34m=\u001b[0m\u001b[0mweights\u001b[0m\u001b[0;34m)\u001b[0m\u001b[0;34m\u001b[0m\u001b[0;34m\u001b[0m\u001b[0m\n\u001b[0m\u001b[1;32m     14\u001b[0m \u001b[0;34m\u001b[0m\u001b[0m\n\u001b[1;32m     15\u001b[0m     \u001b[0;31m# store model coefficients and intercepts to compute prediction\u001b[0m\u001b[0;34m\u001b[0m\u001b[0;34m\u001b[0m\u001b[0m\n",
            "\u001b[0;32m/usr/local/lib/python3.9/dist-packages/sklearn/linear_model/_base.py\u001b[0m in \u001b[0;36mfit\u001b[0;34m(self, X, y, sample_weight)\u001b[0m\n\u001b[1;32m    646\u001b[0m         \u001b[0maccept_sparse\u001b[0m \u001b[0;34m=\u001b[0m \u001b[0;32mFalse\u001b[0m \u001b[0;32mif\u001b[0m \u001b[0mself\u001b[0m\u001b[0;34m.\u001b[0m\u001b[0mpositive\u001b[0m \u001b[0;32melse\u001b[0m \u001b[0;34m[\u001b[0m\u001b[0;34m\"csr\"\u001b[0m\u001b[0;34m,\u001b[0m \u001b[0;34m\"csc\"\u001b[0m\u001b[0;34m,\u001b[0m \u001b[0;34m\"coo\"\u001b[0m\u001b[0;34m]\u001b[0m\u001b[0;34m\u001b[0m\u001b[0;34m\u001b[0m\u001b[0m\n\u001b[1;32m    647\u001b[0m \u001b[0;34m\u001b[0m\u001b[0m\n\u001b[0;32m--> 648\u001b[0;31m         X, y = self._validate_data(\n\u001b[0m\u001b[1;32m    649\u001b[0m             \u001b[0mX\u001b[0m\u001b[0;34m,\u001b[0m \u001b[0my\u001b[0m\u001b[0;34m,\u001b[0m \u001b[0maccept_sparse\u001b[0m\u001b[0;34m=\u001b[0m\u001b[0maccept_sparse\u001b[0m\u001b[0;34m,\u001b[0m \u001b[0my_numeric\u001b[0m\u001b[0;34m=\u001b[0m\u001b[0;32mTrue\u001b[0m\u001b[0;34m,\u001b[0m \u001b[0mmulti_output\u001b[0m\u001b[0;34m=\u001b[0m\u001b[0;32mTrue\u001b[0m\u001b[0;34m\u001b[0m\u001b[0;34m\u001b[0m\u001b[0m\n\u001b[1;32m    650\u001b[0m         )\n",
            "\u001b[0;32m/usr/local/lib/python3.9/dist-packages/sklearn/base.py\u001b[0m in \u001b[0;36m_validate_data\u001b[0;34m(self, X, y, reset, validate_separately, **check_params)\u001b[0m\n\u001b[1;32m    582\u001b[0m                 \u001b[0my\u001b[0m \u001b[0;34m=\u001b[0m \u001b[0mcheck_array\u001b[0m\u001b[0;34m(\u001b[0m\u001b[0my\u001b[0m\u001b[0;34m,\u001b[0m \u001b[0minput_name\u001b[0m\u001b[0;34m=\u001b[0m\u001b[0;34m\"y\"\u001b[0m\u001b[0;34m,\u001b[0m \u001b[0;34m**\u001b[0m\u001b[0mcheck_y_params\u001b[0m\u001b[0;34m)\u001b[0m\u001b[0;34m\u001b[0m\u001b[0;34m\u001b[0m\u001b[0m\n\u001b[1;32m    583\u001b[0m             \u001b[0;32melse\u001b[0m\u001b[0;34m:\u001b[0m\u001b[0;34m\u001b[0m\u001b[0;34m\u001b[0m\u001b[0m\n\u001b[0;32m--> 584\u001b[0;31m                 \u001b[0mX\u001b[0m\u001b[0;34m,\u001b[0m \u001b[0my\u001b[0m \u001b[0;34m=\u001b[0m \u001b[0mcheck_X_y\u001b[0m\u001b[0;34m(\u001b[0m\u001b[0mX\u001b[0m\u001b[0;34m,\u001b[0m \u001b[0my\u001b[0m\u001b[0;34m,\u001b[0m \u001b[0;34m**\u001b[0m\u001b[0mcheck_params\u001b[0m\u001b[0;34m)\u001b[0m\u001b[0;34m\u001b[0m\u001b[0;34m\u001b[0m\u001b[0m\n\u001b[0m\u001b[1;32m    585\u001b[0m             \u001b[0mout\u001b[0m \u001b[0;34m=\u001b[0m \u001b[0mX\u001b[0m\u001b[0;34m,\u001b[0m \u001b[0my\u001b[0m\u001b[0;34m\u001b[0m\u001b[0;34m\u001b[0m\u001b[0m\n\u001b[1;32m    586\u001b[0m \u001b[0;34m\u001b[0m\u001b[0m\n",
            "\u001b[0;32m/usr/local/lib/python3.9/dist-packages/sklearn/utils/validation.py\u001b[0m in \u001b[0;36mcheck_X_y\u001b[0;34m(X, y, accept_sparse, accept_large_sparse, dtype, order, copy, force_all_finite, ensure_2d, allow_nd, multi_output, ensure_min_samples, ensure_min_features, y_numeric, estimator)\u001b[0m\n\u001b[1;32m   1122\u001b[0m     \u001b[0my\u001b[0m \u001b[0;34m=\u001b[0m \u001b[0m_check_y\u001b[0m\u001b[0;34m(\u001b[0m\u001b[0my\u001b[0m\u001b[0;34m,\u001b[0m \u001b[0mmulti_output\u001b[0m\u001b[0;34m=\u001b[0m\u001b[0mmulti_output\u001b[0m\u001b[0;34m,\u001b[0m \u001b[0my_numeric\u001b[0m\u001b[0;34m=\u001b[0m\u001b[0my_numeric\u001b[0m\u001b[0;34m,\u001b[0m \u001b[0mestimator\u001b[0m\u001b[0;34m=\u001b[0m\u001b[0mestimator\u001b[0m\u001b[0;34m)\u001b[0m\u001b[0;34m\u001b[0m\u001b[0;34m\u001b[0m\u001b[0m\n\u001b[1;32m   1123\u001b[0m \u001b[0;34m\u001b[0m\u001b[0m\n\u001b[0;32m-> 1124\u001b[0;31m     \u001b[0mcheck_consistent_length\u001b[0m\u001b[0;34m(\u001b[0m\u001b[0mX\u001b[0m\u001b[0;34m,\u001b[0m \u001b[0my\u001b[0m\u001b[0;34m)\u001b[0m\u001b[0;34m\u001b[0m\u001b[0;34m\u001b[0m\u001b[0m\n\u001b[0m\u001b[1;32m   1125\u001b[0m \u001b[0;34m\u001b[0m\u001b[0m\n\u001b[1;32m   1126\u001b[0m     \u001b[0;32mreturn\u001b[0m \u001b[0mX\u001b[0m\u001b[0;34m,\u001b[0m \u001b[0my\u001b[0m\u001b[0;34m\u001b[0m\u001b[0;34m\u001b[0m\u001b[0m\n",
            "\u001b[0;32m/usr/local/lib/python3.9/dist-packages/sklearn/utils/validation.py\u001b[0m in \u001b[0;36mcheck_consistent_length\u001b[0;34m(*arrays)\u001b[0m\n\u001b[1;32m    395\u001b[0m     \u001b[0muniques\u001b[0m \u001b[0;34m=\u001b[0m \u001b[0mnp\u001b[0m\u001b[0;34m.\u001b[0m\u001b[0munique\u001b[0m\u001b[0;34m(\u001b[0m\u001b[0mlengths\u001b[0m\u001b[0;34m)\u001b[0m\u001b[0;34m\u001b[0m\u001b[0;34m\u001b[0m\u001b[0m\n\u001b[1;32m    396\u001b[0m     \u001b[0;32mif\u001b[0m \u001b[0mlen\u001b[0m\u001b[0;34m(\u001b[0m\u001b[0muniques\u001b[0m\u001b[0;34m)\u001b[0m \u001b[0;34m>\u001b[0m \u001b[0;36m1\u001b[0m\u001b[0;34m:\u001b[0m\u001b[0;34m\u001b[0m\u001b[0;34m\u001b[0m\u001b[0m\n\u001b[0;32m--> 397\u001b[0;31m         raise ValueError(\n\u001b[0m\u001b[1;32m    398\u001b[0m             \u001b[0;34m\"Found input variables with inconsistent numbers of samples: %r\"\u001b[0m\u001b[0;34m\u001b[0m\u001b[0;34m\u001b[0m\u001b[0m\n\u001b[1;32m    399\u001b[0m             \u001b[0;34m%\u001b[0m \u001b[0;34m[\u001b[0m\u001b[0mint\u001b[0m\u001b[0;34m(\u001b[0m\u001b[0ml\u001b[0m\u001b[0;34m)\u001b[0m \u001b[0;32mfor\u001b[0m \u001b[0ml\u001b[0m \u001b[0;32min\u001b[0m \u001b[0mlengths\u001b[0m\u001b[0;34m]\u001b[0m\u001b[0;34m\u001b[0m\u001b[0;34m\u001b[0m\u001b[0m\n",
            "\u001b[0;31mValueError\u001b[0m: Found input variables with inconsistent numbers of samples: [2, 3]"
          ]
        }
      ],
      "source": [
        "#re-run the prediction code here\n",
        "for i in range(3, n_s+1):\n",
        "    # get x and y data \"available\" for our prediction\n",
        "    ts_tmp = ts.iloc[i-3:i-1, :]\n",
        "    ys_tmp = ys.iloc[i-3:i, :]\n",
        "    ns = len(ys_tmp)\n",
        "    \n",
        "    weights = np.array([mu**(i-1-k) for k in range(ns)])\n",
        "    weights = np.flip(weights, 0)\n",
        "        \n",
        "    # perform linear regression on \"available\" data using the mu-adjusted weights\n",
        "    lm_tmp = LinearRegression() \n",
        "    model_tmp = lm_tmp.fit(ts_tmp, ys_tmp, sample_weight=weights)\n",
        "    \n",
        "    # store model coefficients and intercepts to compute prediction\n",
        "    m_tmp = model_tmp.coef_\n",
        "    q_tmp = model_tmp.intercept_\n",
        "\n",
        "    # use ph to make the model prediction according to the prediction time\n",
        "    tp = ts.iloc[i-1, 0]\n",
        "    tp_unix = tp.timestamp()\n",
        "    yp = np.dot(m_tmp, np.array([tp_unix, voltage_value])) + q_tmp\n",
        "      \n",
        "    tp_pred[1, i] = tp + ph\n",
        "    yp_pred[1, i] = yp"
      ]
    },
    {
      "cell_type": "code",
      "execution_count": 29,
      "id": "d6d74929",
      "metadata": {
        "id": "d6d74929",
        "colab": {
          "base_uri": "https://localhost:8080/",
          "height": 695
        },
        "outputId": "fe3214db-431c-4b0c-ce75-75a802b4b567"
      },
      "outputs": [
        {
          "output_type": "execute_result",
          "data": {
            "text/plain": [
              "<matplotlib.legend.Legend at 0x7f6bb0a2e8e0>"
            ]
          },
          "metadata": {},
          "execution_count": 29
        },
        {
          "output_type": "display_data",
          "data": {
            "text/plain": [
              "<Figure size 720x720 with 1 Axes>"
            ],
            "image/png": "[encoded data removed]"
          },
          "metadata": {
            "needs_background": "light"
          }
        }
      ],
      "source": [
        "#Plot first 200 data points/predictions for alternative model\n",
        "#Plot last 200 data points/predictions for the expanded data\n",
        "#Plot first 200 data points/predictions for the expanded dataset\n",
        "fig, ax = plt.subplots(figsize=(10,10))\n",
        "fig.suptitle('Voltage', fontsize=22, fontweight='bold')\n",
        "ax.set_title('mu = %g, ph=%g ' %(mu, ph))\n",
        "ax.plot(tp_pred[:200], yp_pred[:200], label='Predicted Value') \n",
        "ax.plot(ts.iloc[0:200,0], ys.iloc[0:200,0], label='GAP data') \n",
        "ax.set_xlabel('time (epoch)')\n",
        "ax.set_ylabel('kilowatts')\n",
        "ax.legend()"
      ]
    },
    {
      "cell_type": "code",
      "execution_count": 30,
      "id": "7d0f0d0e",
      "metadata": {
        "id": "7d0f0d0e",
        "colab": {
          "base_uri": "https://localhost:8080/",
          "height": 695
        },
        "outputId": "adcf963a-b578-4531-a7a6-16d90e74c27a"
      },
      "outputs": [
        {
          "output_type": "execute_result",
          "data": {
            "text/plain": [
              "<matplotlib.legend.Legend at 0x7f6bae71d340>"
            ]
          },
          "metadata": {},
          "execution_count": 30
        },
        {
          "output_type": "display_data",
          "data": {
            "text/plain": [
              "<Figure size 720x720 with 1 Axes>"
            ],
            "image/png": "[encoded data removed]"
          },
          "metadata": {
            "needs_background": "light"
          }
        }
      ],
      "source": [
        "#Plot last 200 data points/predictions for alternative model\n",
        "#Plot last 200 data points/predictions for the expanded data\n",
        "#Plot first 200 data points/predictions for the expanded dataset\n",
        "fig, ax = plt.subplots(figsize=(10,10))\n",
        "fig.suptitle('Voltage', fontsize=22, fontweight='bold')\n",
        "ax.set_title('mu = %g, ph=%g ' %(mu, ph))\n",
        "ax.plot(tp_pred[:-200], yp_pred[:-200], label='Predicted Value') \n",
        "ax.plot(ts.iloc[0:200,0], ys.iloc[0:200,0], label='GAP data') \n",
        "ax.set_xlabel('time (epoch)')\n",
        "ax.set_ylabel('kilowatts')\n",
        "ax.legend()"
      ]
    },
    {
      "cell_type": "code",
      "execution_count": 31,
      "id": "031733c4",
      "metadata": {
        "id": "031733c4",
        "colab": {
          "base_uri": "https://localhost:8080/"
        },
        "outputId": "ff753f47-036f-4123-defe-b52eb2fb6293"
      },
      "outputs": [
        {
          "output_type": "stream",
          "name": "stdout",
          "text": [
            "RMSE:  2.1549368256504664\n"
          ]
        }
      ],
      "source": [
        "#Calculate RMSE of predictions for alternative model\n",
        "mse = mean_squared_error(ys.iloc[1:n_s], yp_pred)\n",
        "rmse = np.sqrt(mse)\n",
        "\n",
        "print(\"RMSE: \", rmse)\n"
      ]
    },
    {
      "cell_type": "markdown",
      "id": "bd62b51d",
      "metadata": {
        "id": "bd62b51d"
      },
      "source": [
        "**Q: Did your alternative model improve on our previous results? What else could you do to improve the model while still using linear regression?**\n",
        "\n",
        "A: My model resulted in similar results as the guided section of the lab. To improve the model I could increase the time from 5 days to 30 days so that it can gather more data.\n",
        "\n",
        "It's worth noting that the results we're getting int his assignment are based on a pretty short predictive horizon of 5 minutes. If we were to increase our predictive horizon, our results would likely be worse and there would be more room for optimizing and improving the predictions of our model."
      ]
    }
  ],
  "metadata": {
    "kernelspec": {
      "display_name": "Python 3 (ipykernel)",
      "language": "python",
      "name": "python3"
    },
    "language_info": {
      "codemirror_mode": {
        "name": "ipython",
        "version": 3
      },
      "file_extension": ".py",
      "mimetype": "text/x-python",
      "name": "python",
      "nbconvert_exporter": "python",
      "pygments_lexer": "ipython3",
      "version": "3.9.12"
    },
    "colab": {
      "provenance": [],
      "include_colab_link": true
    }
  },
  "nbformat": 4,
  "nbformat_minor": 5
}